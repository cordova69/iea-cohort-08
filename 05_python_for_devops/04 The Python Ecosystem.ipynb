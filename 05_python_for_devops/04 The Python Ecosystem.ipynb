{
 "cells": [
  {
   "cell_type": "markdown",
   "metadata": {},
   "source": [
    "# The Python Ecosystem - Packages, tools, distributions"
   ]
  },
  {
   "cell_type": "markdown",
   "metadata": {},
   "source": [
    "## The Python Package Index\n",
    "* https://pypi.python.org\n",
    "* Online repository of packages submitted by the community\n",
    "* Buyer Beware!\n",
    "* Organizations can set up their own internal mirror of the index https://packaging.python.org/en/latest/guides/hosting-your-own-index/"
   ]
  },
  {
   "cell_type": "markdown",
   "metadata": {},
   "source": [
    "## Installing Python Packages\n",
    "The `pip` tool is the most common way to install Python packages.  It's easy to install if not already pre-installed with your Python installation, and easy to use.  It has a lot of capability for installing from different locations, but by default installs from the Python Package Index"
   ]
  },
  {
   "cell_type": "code",
   "execution_count": 5,
   "metadata": {},
   "outputs": [
    {
     "name": "stdout",
     "output_type": "stream",
     "text": [
      "Defaulting to user installation because normal site-packages is not writeable\n",
      "Requirement already satisfied: requests in /home/acordova/.local/lib/python3.7/site-packages (2.24.0)\n",
      "Requirement already satisfied: idna<3,>=2.5 in /usr/local/lib/python3.7/site-packages (from requests) (2.8)\n",
      "Requirement already satisfied: certifi>=2017.4.17 in /usr/local/lib/python3.7/site-packages (from requests) (2019.6.16)\n",
      "Requirement already satisfied: chardet<4,>=3.0.2 in /usr/local/lib/python3.7/site-packages (from requests) (3.0.4)\n",
      "Requirement already satisfied: urllib3!=1.25.0,!=1.25.1,<1.26,>=1.21.1 in /home/acordova/.local/lib/python3.7/site-packages (from requests) (1.25.11)\n"
     ]
    },
    {
     "name": "stderr",
     "output_type": "stream",
     "text": [
      "--- Logging error ---\n",
      "Traceback (most recent call last):\n",
      "  File \"/home/acordova/.local/lib/python3.7/site-packages/pip/_internal/utils/logging.py\", line 177, in emit\n",
      "    self.console.print(renderable, overflow=\"ignore\", crop=False, style=style)\n",
      "  File \"/home/acordova/.local/lib/python3.7/site-packages/pip/_vendor/rich/console.py\", line 1673, in print\n",
      "    extend(render(renderable, render_options))\n",
      "  File \"/home/acordova/.local/lib/python3.7/site-packages/pip/_vendor/rich/console.py\", line 1305, in render\n",
      "    for render_output in iter_render:\n",
      "  File \"/home/acordova/.local/lib/python3.7/site-packages/pip/_internal/utils/logging.py\", line 134, in __rich_console__\n",
      "    for line in lines:\n",
      "  File \"/home/acordova/.local/lib/python3.7/site-packages/pip/_vendor/rich/segment.py\", line 249, in split_lines\n",
      "    for segment in segments:\n",
      "  File \"/home/acordova/.local/lib/python3.7/site-packages/pip/_vendor/rich/console.py\", line 1283, in render\n",
      "    renderable = rich_cast(renderable)\n",
      "  File \"/home/acordova/.local/lib/python3.7/site-packages/pip/_vendor/rich/protocol.py\", line 36, in rich_cast\n",
      "    renderable = cast_method()\n",
      "  File \"/home/acordova/.local/lib/python3.7/site-packages/pip/_internal/self_outdated_check.py\", line 130, in __rich__\n",
      "    pip_cmd = get_best_invocation_for_this_pip()\n",
      "  File \"/home/acordova/.local/lib/python3.7/site-packages/pip/_internal/utils/entrypoints.py\", line 60, in get_best_invocation_for_this_pip\n",
      "    os.path.join(binary_prefix, exe_name),\n",
      "  File \"/usr/lib64/python3.7/genericpath.py\", line 101, in samefile\n",
      "    s2 = os.stat(f2)\n",
      "FileNotFoundError: [Errno 2] No such file or directory: '/usr/bin/pip'\n",
      "Call stack:\n",
      "  File \"/usr/local/bin/pip\", line 8, in <module>\n",
      "    sys.exit(main())\n",
      "  File \"/home/acordova/.local/lib/python3.7/site-packages/pip/_internal/cli/main.py\", line 70, in main\n",
      "    return command.main(cmd_args)\n",
      "  File \"/home/acordova/.local/lib/python3.7/site-packages/pip/_internal/cli/base_command.py\", line 101, in main\n",
      "    return self._main(args)\n",
      "  File \"/home/acordova/.local/lib/python3.7/site-packages/pip/_internal/cli/base_command.py\", line 223, in _main\n",
      "    self.handle_pip_version_check(options)\n",
      "  File \"/home/acordova/.local/lib/python3.7/site-packages/pip/_internal/cli/req_command.py\", line 190, in handle_pip_version_check\n",
      "    pip_self_version_check(session, options)\n",
      "  File \"/home/acordova/.local/lib/python3.7/site-packages/pip/_internal/self_outdated_check.py\", line 236, in pip_self_version_check\n",
      "    logger.info(\"[present-rich] %s\", upgrade_prompt)\n",
      "  File \"/usr/lib64/python3.7/logging/__init__.py\", line 1378, in info\n",
      "    self._log(INFO, msg, args, **kwargs)\n",
      "  File \"/usr/lib64/python3.7/logging/__init__.py\", line 1514, in _log\n",
      "    self.handle(record)\n",
      "  File \"/usr/lib64/python3.7/logging/__init__.py\", line 1524, in handle\n",
      "    self.callHandlers(record)\n",
      "  File \"/usr/lib64/python3.7/logging/__init__.py\", line 1586, in callHandlers\n",
      "    hdlr.handle(record)\n",
      "  File \"/usr/lib64/python3.7/logging/__init__.py\", line 894, in handle\n",
      "    self.emit(record)\n",
      "  File \"/home/acordova/.local/lib/python3.7/site-packages/pip/_internal/utils/logging.py\", line 179, in emit\n",
      "    self.handleError(record)\n",
      "Message: '[present-rich] %s'\n",
      "Arguments: (UpgradePrompt(old='22.2', new='22.2.2'),)\n"
     ]
    }
   ],
   "source": [
    "%%bash\n",
    "# Install the \"requests\" package (latest version)\n",
    "pip install requests"
   ]
  },
  {
   "cell_type": "markdown",
   "metadata": {},
   "source": [
    "### Pip Defaults to:\n",
    "- Installing packages from the Python Package Index\n",
    "- Installing package to your system-wide Python directory (if root)\n",
    "- Installing packages for the version of Python pip was installed with"
   ]
  },
  {
   "cell_type": "code",
   "execution_count": 6,
   "metadata": {},
   "outputs": [
    {
     "name": "stdout",
     "output_type": "stream",
     "text": [
      "Requirement already satisfied: requests in /home/acordova/.local/lib/python3.7/site-packages (2.24.0)\n",
      "Requirement already satisfied: urllib3!=1.25.0,!=1.25.1,<1.26,>=1.21.1 in /home/acordova/.local/lib/python3.7/site-packages (from requests) (1.25.11)\n",
      "Requirement already satisfied: idna<3,>=2.5 in /usr/local/lib/python3.7/site-packages (from requests) (2.8)\n",
      "Requirement already satisfied: certifi>=2017.4.17 in /usr/local/lib/python3.7/site-packages (from requests) (2019.6.16)\n",
      "Requirement already satisfied: chardet<4,>=3.0.2 in /usr/local/lib/python3.7/site-packages (from requests) (3.0.4)\n"
     ]
    },
    {
     "name": "stderr",
     "output_type": "stream",
     "text": [
      "--- Logging error ---\n",
      "Traceback (most recent call last):\n",
      "  File \"/home/acordova/.local/lib/python3.7/site-packages/pip/_internal/utils/logging.py\", line 177, in emit\n",
      "    self.console.print(renderable, overflow=\"ignore\", crop=False, style=style)\n",
      "  File \"/home/acordova/.local/lib/python3.7/site-packages/pip/_vendor/rich/console.py\", line 1673, in print\n",
      "    extend(render(renderable, render_options))\n",
      "  File \"/home/acordova/.local/lib/python3.7/site-packages/pip/_vendor/rich/console.py\", line 1305, in render\n",
      "    for render_output in iter_render:\n",
      "  File \"/home/acordova/.local/lib/python3.7/site-packages/pip/_internal/utils/logging.py\", line 134, in __rich_console__\n",
      "    for line in lines:\n",
      "  File \"/home/acordova/.local/lib/python3.7/site-packages/pip/_vendor/rich/segment.py\", line 249, in split_lines\n",
      "    for segment in segments:\n",
      "  File \"/home/acordova/.local/lib/python3.7/site-packages/pip/_vendor/rich/console.py\", line 1283, in render\n",
      "    renderable = rich_cast(renderable)\n",
      "  File \"/home/acordova/.local/lib/python3.7/site-packages/pip/_vendor/rich/protocol.py\", line 36, in rich_cast\n",
      "    renderable = cast_method()\n",
      "  File \"/home/acordova/.local/lib/python3.7/site-packages/pip/_internal/self_outdated_check.py\", line 130, in __rich__\n",
      "    pip_cmd = get_best_invocation_for_this_pip()\n",
      "  File \"/home/acordova/.local/lib/python3.7/site-packages/pip/_internal/utils/entrypoints.py\", line 60, in get_best_invocation_for_this_pip\n",
      "    os.path.join(binary_prefix, exe_name),\n",
      "  File \"/usr/lib64/python3.7/genericpath.py\", line 101, in samefile\n",
      "    s2 = os.stat(f2)\n",
      "FileNotFoundError: [Errno 2] No such file or directory: '/usr/bin/pip'\n",
      "Call stack:\n",
      "  File \"/usr/local/bin/pip\", line 8, in <module>\n",
      "    sys.exit(main())\n",
      "  File \"/home/acordova/.local/lib/python3.7/site-packages/pip/_internal/cli/main.py\", line 70, in main\n",
      "    return command.main(cmd_args)\n",
      "  File \"/home/acordova/.local/lib/python3.7/site-packages/pip/_internal/cli/base_command.py\", line 101, in main\n",
      "    return self._main(args)\n",
      "  File \"/home/acordova/.local/lib/python3.7/site-packages/pip/_internal/cli/base_command.py\", line 223, in _main\n",
      "    self.handle_pip_version_check(options)\n",
      "  File \"/home/acordova/.local/lib/python3.7/site-packages/pip/_internal/cli/req_command.py\", line 190, in handle_pip_version_check\n",
      "    pip_self_version_check(session, options)\n",
      "  File \"/home/acordova/.local/lib/python3.7/site-packages/pip/_internal/self_outdated_check.py\", line 236, in pip_self_version_check\n",
      "    logger.info(\"[present-rich] %s\", upgrade_prompt)\n",
      "  File \"/usr/lib64/python3.7/logging/__init__.py\", line 1378, in info\n",
      "    self._log(INFO, msg, args, **kwargs)\n",
      "  File \"/usr/lib64/python3.7/logging/__init__.py\", line 1514, in _log\n",
      "    self.handle(record)\n",
      "  File \"/usr/lib64/python3.7/logging/__init__.py\", line 1524, in handle\n",
      "    self.callHandlers(record)\n",
      "  File \"/usr/lib64/python3.7/logging/__init__.py\", line 1586, in callHandlers\n",
      "    hdlr.handle(record)\n",
      "  File \"/usr/lib64/python3.7/logging/__init__.py\", line 894, in handle\n",
      "    self.emit(record)\n",
      "  File \"/home/acordova/.local/lib/python3.7/site-packages/pip/_internal/utils/logging.py\", line 179, in emit\n",
      "    self.handleError(record)\n",
      "Message: '[present-rich] %s'\n",
      "Arguments: (UpgradePrompt(old='22.2', new='22.2.2'),)\n"
     ]
    }
   ],
   "source": [
    "%%bash\n",
    "# Install the \"requests\" package into your own home directory (in a .local directory by default)\n",
    "pip install --user requests"
   ]
  },
  {
   "cell_type": "code",
   "execution_count": 7,
   "metadata": {},
   "outputs": [
    {
     "name": "stdout",
     "output_type": "stream",
     "text": [
      "Requirement already satisfied: requests==2.24.0 in /home/acordova/.local/lib/python3.7/site-packages (2.24.0)\n",
      "Requirement already satisfied: certifi>=2017.4.17 in /usr/local/lib/python3.7/site-packages (from requests==2.24.0) (2019.6.16)\n",
      "Requirement already satisfied: chardet<4,>=3.0.2 in /usr/local/lib/python3.7/site-packages (from requests==2.24.0) (3.0.4)\n",
      "Requirement already satisfied: idna<3,>=2.5 in /usr/local/lib/python3.7/site-packages (from requests==2.24.0) (2.8)\n",
      "Requirement already satisfied: urllib3!=1.25.0,!=1.25.1,<1.26,>=1.21.1 in /home/acordova/.local/lib/python3.7/site-packages (from requests==2.24.0) (1.25.11)\n"
     ]
    },
    {
     "name": "stderr",
     "output_type": "stream",
     "text": [
      "--- Logging error ---\n",
      "Traceback (most recent call last):\n",
      "  File \"/home/acordova/.local/lib/python3.7/site-packages/pip/_internal/utils/logging.py\", line 177, in emit\n",
      "    self.console.print(renderable, overflow=\"ignore\", crop=False, style=style)\n",
      "  File \"/home/acordova/.local/lib/python3.7/site-packages/pip/_vendor/rich/console.py\", line 1673, in print\n",
      "    extend(render(renderable, render_options))\n",
      "  File \"/home/acordova/.local/lib/python3.7/site-packages/pip/_vendor/rich/console.py\", line 1305, in render\n",
      "    for render_output in iter_render:\n",
      "  File \"/home/acordova/.local/lib/python3.7/site-packages/pip/_internal/utils/logging.py\", line 134, in __rich_console__\n",
      "    for line in lines:\n",
      "  File \"/home/acordova/.local/lib/python3.7/site-packages/pip/_vendor/rich/segment.py\", line 249, in split_lines\n",
      "    for segment in segments:\n",
      "  File \"/home/acordova/.local/lib/python3.7/site-packages/pip/_vendor/rich/console.py\", line 1283, in render\n",
      "    renderable = rich_cast(renderable)\n",
      "  File \"/home/acordova/.local/lib/python3.7/site-packages/pip/_vendor/rich/protocol.py\", line 36, in rich_cast\n",
      "    renderable = cast_method()\n",
      "  File \"/home/acordova/.local/lib/python3.7/site-packages/pip/_internal/self_outdated_check.py\", line 130, in __rich__\n",
      "    pip_cmd = get_best_invocation_for_this_pip()\n",
      "  File \"/home/acordova/.local/lib/python3.7/site-packages/pip/_internal/utils/entrypoints.py\", line 60, in get_best_invocation_for_this_pip\n",
      "    os.path.join(binary_prefix, exe_name),\n",
      "  File \"/usr/lib64/python3.7/genericpath.py\", line 101, in samefile\n",
      "    s2 = os.stat(f2)\n",
      "FileNotFoundError: [Errno 2] No such file or directory: '/usr/bin/pip'\n",
      "Call stack:\n",
      "  File \"/usr/local/bin/pip\", line 8, in <module>\n",
      "    sys.exit(main())\n",
      "  File \"/home/acordova/.local/lib/python3.7/site-packages/pip/_internal/cli/main.py\", line 70, in main\n",
      "    return command.main(cmd_args)\n",
      "  File \"/home/acordova/.local/lib/python3.7/site-packages/pip/_internal/cli/base_command.py\", line 101, in main\n",
      "    return self._main(args)\n",
      "  File \"/home/acordova/.local/lib/python3.7/site-packages/pip/_internal/cli/base_command.py\", line 223, in _main\n",
      "    self.handle_pip_version_check(options)\n",
      "  File \"/home/acordova/.local/lib/python3.7/site-packages/pip/_internal/cli/req_command.py\", line 190, in handle_pip_version_check\n",
      "    pip_self_version_check(session, options)\n",
      "  File \"/home/acordova/.local/lib/python3.7/site-packages/pip/_internal/self_outdated_check.py\", line 236, in pip_self_version_check\n",
      "    logger.info(\"[present-rich] %s\", upgrade_prompt)\n",
      "  File \"/usr/lib64/python3.7/logging/__init__.py\", line 1378, in info\n",
      "    self._log(INFO, msg, args, **kwargs)\n",
      "  File \"/usr/lib64/python3.7/logging/__init__.py\", line 1514, in _log\n",
      "    self.handle(record)\n",
      "  File \"/usr/lib64/python3.7/logging/__init__.py\", line 1524, in handle\n",
      "    self.callHandlers(record)\n",
      "  File \"/usr/lib64/python3.7/logging/__init__.py\", line 1586, in callHandlers\n",
      "    hdlr.handle(record)\n",
      "  File \"/usr/lib64/python3.7/logging/__init__.py\", line 894, in handle\n",
      "    self.emit(record)\n",
      "  File \"/home/acordova/.local/lib/python3.7/site-packages/pip/_internal/utils/logging.py\", line 179, in emit\n",
      "    self.handleError(record)\n",
      "Message: '[present-rich] %s'\n",
      "Arguments: (UpgradePrompt(old='22.2', new='22.2.2'),)\n"
     ]
    }
   ],
   "source": [
    "%%bash\n",
    "# \"Downgrade\" requests to a specific version\n",
    "pip install --upgrade --user requests==2.24.0"
   ]
  },
  {
   "cell_type": "code",
   "execution_count": 11,
   "metadata": {},
   "outputs": [
    {
     "name": "stderr",
     "output_type": "stream",
     "text": [
      "\n",
      "Usage:   \n",
      "  pip uninstall [options] <package> ...\n",
      "  pip uninstall [options] -r <requirements file> ...\n",
      "\n",
      "no such option: --user\n"
     ]
    },
    {
     "ename": "CalledProcessError",
     "evalue": "Command 'b'# Remove requests package\\npip uninstall -y --user requests\\n'' returned non-zero exit status 2.",
     "output_type": "error",
     "traceback": [
      "\u001b[0;31m---------------------------------------------------------------------------\u001b[0m",
      "\u001b[0;31mCalledProcessError\u001b[0m                        Traceback (most recent call last)",
      "\u001b[0;32m<ipython-input-11-80ae7f163a0b>\u001b[0m in \u001b[0;36m<module>\u001b[0;34m\u001b[0m\n\u001b[0;32m----> 1\u001b[0;31m \u001b[0mget_ipython\u001b[0m\u001b[0;34m(\u001b[0m\u001b[0;34m)\u001b[0m\u001b[0;34m.\u001b[0m\u001b[0mrun_cell_magic\u001b[0m\u001b[0;34m(\u001b[0m\u001b[0;34m'bash'\u001b[0m\u001b[0;34m,\u001b[0m \u001b[0;34m''\u001b[0m\u001b[0;34m,\u001b[0m \u001b[0;34m'# Remove requests package\\npip uninstall -y --user requests\\n'\u001b[0m\u001b[0;34m)\u001b[0m\u001b[0;34m\u001b[0m\u001b[0;34m\u001b[0m\u001b[0m\n\u001b[0m",
      "\u001b[0;32m/usr/local/lib/python3.7/site-packages/IPython/core/interactiveshell.py\u001b[0m in \u001b[0;36mrun_cell_magic\u001b[0;34m(self, magic_name, line, cell)\u001b[0m\n\u001b[1;32m   2356\u001b[0m             \u001b[0;32mwith\u001b[0m \u001b[0mself\u001b[0m\u001b[0;34m.\u001b[0m\u001b[0mbuiltin_trap\u001b[0m\u001b[0;34m:\u001b[0m\u001b[0;34m\u001b[0m\u001b[0;34m\u001b[0m\u001b[0m\n\u001b[1;32m   2357\u001b[0m                 \u001b[0margs\u001b[0m \u001b[0;34m=\u001b[0m \u001b[0;34m(\u001b[0m\u001b[0mmagic_arg_s\u001b[0m\u001b[0;34m,\u001b[0m \u001b[0mcell\u001b[0m\u001b[0;34m)\u001b[0m\u001b[0;34m\u001b[0m\u001b[0;34m\u001b[0m\u001b[0m\n\u001b[0;32m-> 2358\u001b[0;31m                 \u001b[0mresult\u001b[0m \u001b[0;34m=\u001b[0m \u001b[0mfn\u001b[0m\u001b[0;34m(\u001b[0m\u001b[0;34m*\u001b[0m\u001b[0margs\u001b[0m\u001b[0;34m,\u001b[0m \u001b[0;34m**\u001b[0m\u001b[0mkwargs\u001b[0m\u001b[0;34m)\u001b[0m\u001b[0;34m\u001b[0m\u001b[0;34m\u001b[0m\u001b[0m\n\u001b[0m\u001b[1;32m   2359\u001b[0m             \u001b[0;32mreturn\u001b[0m \u001b[0mresult\u001b[0m\u001b[0;34m\u001b[0m\u001b[0;34m\u001b[0m\u001b[0m\n\u001b[1;32m   2360\u001b[0m \u001b[0;34m\u001b[0m\u001b[0m\n",
      "\u001b[0;32m/usr/local/lib/python3.7/site-packages/IPython/core/magics/script.py\u001b[0m in \u001b[0;36mnamed_script_magic\u001b[0;34m(line, cell)\u001b[0m\n\u001b[1;32m    140\u001b[0m             \u001b[0;32melse\u001b[0m\u001b[0;34m:\u001b[0m\u001b[0;34m\u001b[0m\u001b[0;34m\u001b[0m\u001b[0m\n\u001b[1;32m    141\u001b[0m                 \u001b[0mline\u001b[0m \u001b[0;34m=\u001b[0m \u001b[0mscript\u001b[0m\u001b[0;34m\u001b[0m\u001b[0;34m\u001b[0m\u001b[0m\n\u001b[0;32m--> 142\u001b[0;31m             \u001b[0;32mreturn\u001b[0m \u001b[0mself\u001b[0m\u001b[0;34m.\u001b[0m\u001b[0mshebang\u001b[0m\u001b[0;34m(\u001b[0m\u001b[0mline\u001b[0m\u001b[0;34m,\u001b[0m \u001b[0mcell\u001b[0m\u001b[0;34m)\u001b[0m\u001b[0;34m\u001b[0m\u001b[0;34m\u001b[0m\u001b[0m\n\u001b[0m\u001b[1;32m    143\u001b[0m \u001b[0;34m\u001b[0m\u001b[0m\n\u001b[1;32m    144\u001b[0m         \u001b[0;31m# write a basic docstring:\u001b[0m\u001b[0;34m\u001b[0m\u001b[0;34m\u001b[0m\u001b[0;34m\u001b[0m\u001b[0m\n",
      "\u001b[0;32m</usr/local/lib/python3.7/site-packages/decorator.py:decorator-gen-110>\u001b[0m in \u001b[0;36mshebang\u001b[0;34m(self, line, cell)\u001b[0m\n",
      "\u001b[0;32m/usr/local/lib/python3.7/site-packages/IPython/core/magic.py\u001b[0m in \u001b[0;36m<lambda>\u001b[0;34m(f, *a, **k)\u001b[0m\n\u001b[1;32m    185\u001b[0m     \u001b[0;31m# but it's overkill for just that one bit of state.\u001b[0m\u001b[0;34m\u001b[0m\u001b[0;34m\u001b[0m\u001b[0;34m\u001b[0m\u001b[0m\n\u001b[1;32m    186\u001b[0m     \u001b[0;32mdef\u001b[0m \u001b[0mmagic_deco\u001b[0m\u001b[0;34m(\u001b[0m\u001b[0marg\u001b[0m\u001b[0;34m)\u001b[0m\u001b[0;34m:\u001b[0m\u001b[0;34m\u001b[0m\u001b[0;34m\u001b[0m\u001b[0m\n\u001b[0;32m--> 187\u001b[0;31m         \u001b[0mcall\u001b[0m \u001b[0;34m=\u001b[0m \u001b[0;32mlambda\u001b[0m \u001b[0mf\u001b[0m\u001b[0;34m,\u001b[0m \u001b[0;34m*\u001b[0m\u001b[0ma\u001b[0m\u001b[0;34m,\u001b[0m \u001b[0;34m**\u001b[0m\u001b[0mk\u001b[0m\u001b[0;34m:\u001b[0m \u001b[0mf\u001b[0m\u001b[0;34m(\u001b[0m\u001b[0;34m*\u001b[0m\u001b[0ma\u001b[0m\u001b[0;34m,\u001b[0m \u001b[0;34m**\u001b[0m\u001b[0mk\u001b[0m\u001b[0;34m)\u001b[0m\u001b[0;34m\u001b[0m\u001b[0;34m\u001b[0m\u001b[0m\n\u001b[0m\u001b[1;32m    188\u001b[0m \u001b[0;34m\u001b[0m\u001b[0m\n\u001b[1;32m    189\u001b[0m         \u001b[0;32mif\u001b[0m \u001b[0mcallable\u001b[0m\u001b[0;34m(\u001b[0m\u001b[0marg\u001b[0m\u001b[0;34m)\u001b[0m\u001b[0;34m:\u001b[0m\u001b[0;34m\u001b[0m\u001b[0;34m\u001b[0m\u001b[0m\n",
      "\u001b[0;32m/usr/local/lib/python3.7/site-packages/IPython/core/magics/script.py\u001b[0m in \u001b[0;36mshebang\u001b[0;34m(self, line, cell)\u001b[0m\n\u001b[1;32m    243\u001b[0m             \u001b[0msys\u001b[0m\u001b[0;34m.\u001b[0m\u001b[0mstderr\u001b[0m\u001b[0;34m.\u001b[0m\u001b[0mflush\u001b[0m\u001b[0;34m(\u001b[0m\u001b[0;34m)\u001b[0m\u001b[0;34m\u001b[0m\u001b[0;34m\u001b[0m\u001b[0m\n\u001b[1;32m    244\u001b[0m         \u001b[0;32mif\u001b[0m \u001b[0margs\u001b[0m\u001b[0;34m.\u001b[0m\u001b[0mraise_error\u001b[0m \u001b[0;32mand\u001b[0m \u001b[0mp\u001b[0m\u001b[0;34m.\u001b[0m\u001b[0mreturncode\u001b[0m\u001b[0;34m!=\u001b[0m\u001b[0;36m0\u001b[0m\u001b[0;34m:\u001b[0m\u001b[0;34m\u001b[0m\u001b[0;34m\u001b[0m\u001b[0m\n\u001b[0;32m--> 245\u001b[0;31m             \u001b[0;32mraise\u001b[0m \u001b[0mCalledProcessError\u001b[0m\u001b[0;34m(\u001b[0m\u001b[0mp\u001b[0m\u001b[0;34m.\u001b[0m\u001b[0mreturncode\u001b[0m\u001b[0;34m,\u001b[0m \u001b[0mcell\u001b[0m\u001b[0;34m,\u001b[0m \u001b[0moutput\u001b[0m\u001b[0;34m=\u001b[0m\u001b[0mout\u001b[0m\u001b[0;34m,\u001b[0m \u001b[0mstderr\u001b[0m\u001b[0;34m=\u001b[0m\u001b[0merr\u001b[0m\u001b[0;34m)\u001b[0m\u001b[0;34m\u001b[0m\u001b[0;34m\u001b[0m\u001b[0m\n\u001b[0m\u001b[1;32m    246\u001b[0m \u001b[0;34m\u001b[0m\u001b[0m\n\u001b[1;32m    247\u001b[0m     \u001b[0;32mdef\u001b[0m \u001b[0m_run_script\u001b[0m\u001b[0;34m(\u001b[0m\u001b[0mself\u001b[0m\u001b[0;34m,\u001b[0m \u001b[0mp\u001b[0m\u001b[0;34m,\u001b[0m \u001b[0mcell\u001b[0m\u001b[0;34m,\u001b[0m \u001b[0mto_close\u001b[0m\u001b[0;34m)\u001b[0m\u001b[0;34m:\u001b[0m\u001b[0;34m\u001b[0m\u001b[0;34m\u001b[0m\u001b[0m\n",
      "\u001b[0;31mCalledProcessError\u001b[0m: Command 'b'# Remove requests package\\npip uninstall -y --user requests\\n'' returned non-zero exit status 2."
     ]
    }
   ],
   "source": [
    "%%bash\n",
    "# Remove requests package\n",
    "pip uninstall -y --user requests"
   ]
  },
  {
   "cell_type": "code",
   "execution_count": 9,
   "metadata": {},
   "outputs": [
    {
     "name": "stdout",
     "output_type": "stream",
     "text": [
      "Collecting requests==2.25.1\n",
      "  Downloading requests-2.25.1-py2.py3-none-any.whl (61 kB)\n",
      "     ━━━━━━━━━━━━━━━━━━━━━━━━━━━━━━━━━━━━━━━━ 61.2/61.2 kB 6.7 MB/s eta 0:00:00\n",
      "Requirement already satisfied: certifi>=2017.4.17 in /usr/local/lib/python3.7/site-packages (from requests==2.25.1) (2019.6.16)\n",
      "Requirement already satisfied: chardet<5,>=3.0.2 in /usr/local/lib/python3.7/site-packages (from requests==2.25.1) (3.0.4)\n",
      "Requirement already satisfied: urllib3<1.27,>=1.21.1 in /home/acordova/.local/lib/python3.7/site-packages (from requests==2.25.1) (1.25.11)\n",
      "Requirement already satisfied: idna<3,>=2.5 in /usr/local/lib/python3.7/site-packages (from requests==2.25.1) (2.8)\n",
      "Installing collected packages: requests\n",
      "  Attempting uninstall: requests\n",
      "    Found existing installation: requests 2.24.0\n",
      "    Uninstalling requests-2.24.0:\n",
      "      Successfully uninstalled requests-2.24.0\n",
      "Successfully installed requests-2.25.1\n"
     ]
    },
    {
     "name": "stderr",
     "output_type": "stream",
     "text": [
      "--- Logging error ---\n",
      "Traceback (most recent call last):\n",
      "  File \"/home/acordova/.local/lib/python3.7/site-packages/pip/_internal/utils/logging.py\", line 177, in emit\n",
      "    self.console.print(renderable, overflow=\"ignore\", crop=False, style=style)\n",
      "  File \"/home/acordova/.local/lib/python3.7/site-packages/pip/_vendor/rich/console.py\", line 1673, in print\n",
      "    extend(render(renderable, render_options))\n",
      "  File \"/home/acordova/.local/lib/python3.7/site-packages/pip/_vendor/rich/console.py\", line 1305, in render\n",
      "    for render_output in iter_render:\n",
      "  File \"/home/acordova/.local/lib/python3.7/site-packages/pip/_internal/utils/logging.py\", line 134, in __rich_console__\n",
      "    for line in lines:\n",
      "  File \"/home/acordova/.local/lib/python3.7/site-packages/pip/_vendor/rich/segment.py\", line 249, in split_lines\n",
      "    for segment in segments:\n",
      "  File \"/home/acordova/.local/lib/python3.7/site-packages/pip/_vendor/rich/console.py\", line 1283, in render\n",
      "    renderable = rich_cast(renderable)\n",
      "  File \"/home/acordova/.local/lib/python3.7/site-packages/pip/_vendor/rich/protocol.py\", line 36, in rich_cast\n",
      "    renderable = cast_method()\n",
      "  File \"/home/acordova/.local/lib/python3.7/site-packages/pip/_internal/self_outdated_check.py\", line 130, in __rich__\n",
      "    pip_cmd = get_best_invocation_for_this_pip()\n",
      "  File \"/home/acordova/.local/lib/python3.7/site-packages/pip/_internal/utils/entrypoints.py\", line 60, in get_best_invocation_for_this_pip\n",
      "    os.path.join(binary_prefix, exe_name),\n",
      "  File \"/usr/lib64/python3.7/genericpath.py\", line 101, in samefile\n",
      "    s2 = os.stat(f2)\n",
      "FileNotFoundError: [Errno 2] No such file or directory: '/usr/bin/pip'\n",
      "Call stack:\n",
      "  File \"/usr/lib64/python3.7/runpy.py\", line 193, in _run_module_as_main\n",
      "    \"__main__\", mod_spec)\n",
      "  File \"/usr/lib64/python3.7/runpy.py\", line 85, in _run_code\n",
      "    exec(code, run_globals)\n",
      "  File \"/home/acordova/.local/lib/python3.7/site-packages/pip/__main__.py\", line 31, in <module>\n",
      "    sys.exit(_main())\n",
      "  File \"/home/acordova/.local/lib/python3.7/site-packages/pip/_internal/cli/main.py\", line 70, in main\n",
      "    return command.main(cmd_args)\n",
      "  File \"/home/acordova/.local/lib/python3.7/site-packages/pip/_internal/cli/base_command.py\", line 101, in main\n",
      "    return self._main(args)\n",
      "  File \"/home/acordova/.local/lib/python3.7/site-packages/pip/_internal/cli/base_command.py\", line 223, in _main\n",
      "    self.handle_pip_version_check(options)\n",
      "  File \"/home/acordova/.local/lib/python3.7/site-packages/pip/_internal/cli/req_command.py\", line 190, in handle_pip_version_check\n",
      "    pip_self_version_check(session, options)\n",
      "  File \"/home/acordova/.local/lib/python3.7/site-packages/pip/_internal/self_outdated_check.py\", line 236, in pip_self_version_check\n",
      "    logger.info(\"[present-rich] %s\", upgrade_prompt)\n",
      "  File \"/usr/lib64/python3.7/logging/__init__.py\", line 1378, in info\n",
      "    self._log(INFO, msg, args, **kwargs)\n",
      "  File \"/usr/lib64/python3.7/logging/__init__.py\", line 1514, in _log\n",
      "    self.handle(record)\n",
      "  File \"/usr/lib64/python3.7/logging/__init__.py\", line 1524, in handle\n",
      "    self.callHandlers(record)\n",
      "  File \"/usr/lib64/python3.7/logging/__init__.py\", line 1586, in callHandlers\n",
      "    hdlr.handle(record)\n",
      "  File \"/usr/lib64/python3.7/logging/__init__.py\", line 894, in handle\n",
      "    self.emit(record)\n",
      "  File \"/home/acordova/.local/lib/python3.7/site-packages/pip/_internal/utils/logging.py\", line 179, in emit\n",
      "    self.handleError(record)\n",
      "Message: '[present-rich] %s'\n",
      "Arguments: (UpgradePrompt(old='22.2', new='22.2.2'),)\n"
     ]
    }
   ],
   "source": [
    "%%bash\n",
    "# Ensure you're installing for a specific version of Python (3.7 in this case)\n",
    "python3.7 -m pip install --user requests==2.25.1"
   ]
  },
  {
   "cell_type": "markdown",
   "metadata": {},
   "source": [
    "### Pip can specify versions in a lot of ways\n",
    "* Minimums:  requests>=2.25\n",
    "* Maximums:  requests<3.0\n",
    "* Ranges:    requests>=2.0,<=3.0\n",
    "* Specific version:  requests==2.25.1\n",
    "\n",
    "There are several combinations of these available.  Pip follows a PEP standard way of specifying version numbers, found here:  https://www.python.org/dev/peps/pep-0440/#version-specifiers"
   ]
  },
  {
   "cell_type": "markdown",
   "metadata": {},
   "source": [
    "### What if you need multiple packages?  With specific versions of some?\n",
    "pip can accept multiple packages (as many as you like) for the install command"
   ]
  },
  {
   "cell_type": "code",
   "execution_count": 12,
   "metadata": {},
   "outputs": [
    {
     "name": "stderr",
     "output_type": "stream",
     "text": [
      "--- Logging error ---\n",
      "Traceback (most recent call last):\n",
      "  File \"/home/acordova/.local/lib/python3.7/site-packages/pip/_internal/utils/logging.py\", line 177, in emit\n",
      "    self.console.print(renderable, overflow=\"ignore\", crop=False, style=style)\n",
      "  File \"/home/acordova/.local/lib/python3.7/site-packages/pip/_vendor/rich/console.py\", line 1673, in print\n",
      "    extend(render(renderable, render_options))\n",
      "  File \"/home/acordova/.local/lib/python3.7/site-packages/pip/_vendor/rich/console.py\", line 1305, in render\n",
      "    for render_output in iter_render:\n",
      "  File \"/home/acordova/.local/lib/python3.7/site-packages/pip/_internal/utils/logging.py\", line 134, in __rich_console__\n",
      "    for line in lines:\n",
      "  File \"/home/acordova/.local/lib/python3.7/site-packages/pip/_vendor/rich/segment.py\", line 249, in split_lines\n",
      "    for segment in segments:\n",
      "  File \"/home/acordova/.local/lib/python3.7/site-packages/pip/_vendor/rich/console.py\", line 1283, in render\n",
      "    renderable = rich_cast(renderable)\n",
      "  File \"/home/acordova/.local/lib/python3.7/site-packages/pip/_vendor/rich/protocol.py\", line 36, in rich_cast\n",
      "    renderable = cast_method()\n",
      "  File \"/home/acordova/.local/lib/python3.7/site-packages/pip/_internal/self_outdated_check.py\", line 130, in __rich__\n",
      "    pip_cmd = get_best_invocation_for_this_pip()\n",
      "  File \"/home/acordova/.local/lib/python3.7/site-packages/pip/_internal/utils/entrypoints.py\", line 60, in get_best_invocation_for_this_pip\n",
      "    os.path.join(binary_prefix, exe_name),\n",
      "  File \"/usr/lib64/python3.7/genericpath.py\", line 101, in samefile\n",
      "    s2 = os.stat(f2)\n",
      "FileNotFoundError: [Errno 2] No such file or directory: '/usr/bin/pip'\n",
      "Call stack:\n",
      "  File \"/usr/local/bin/pip\", line 8, in <module>\n",
      "    sys.exit(main())\n",
      "  File \"/home/acordova/.local/lib/python3.7/site-packages/pip/_internal/cli/main.py\", line 70, in main\n",
      "    return command.main(cmd_args)\n",
      "  File \"/home/acordova/.local/lib/python3.7/site-packages/pip/_internal/cli/base_command.py\", line 101, in main\n",
      "    return self._main(args)\n",
      "  File \"/home/acordova/.local/lib/python3.7/site-packages/pip/_internal/cli/base_command.py\", line 223, in _main\n",
      "    self.handle_pip_version_check(options)\n",
      "  File \"/home/acordova/.local/lib/python3.7/site-packages/pip/_internal/cli/req_command.py\", line 190, in handle_pip_version_check\n",
      "    pip_self_version_check(session, options)\n",
      "  File \"/home/acordova/.local/lib/python3.7/site-packages/pip/_internal/self_outdated_check.py\", line 236, in pip_self_version_check\n",
      "    logger.info(\"[present-rich] %s\", upgrade_prompt)\n",
      "  File \"/usr/lib64/python3.7/logging/__init__.py\", line 1378, in info\n",
      "    self._log(INFO, msg, args, **kwargs)\n",
      "  File \"/usr/lib64/python3.7/logging/__init__.py\", line 1514, in _log\n",
      "    self.handle(record)\n",
      "  File \"/usr/lib64/python3.7/logging/__init__.py\", line 1524, in handle\n",
      "    self.callHandlers(record)\n",
      "  File \"/usr/lib64/python3.7/logging/__init__.py\", line 1586, in callHandlers\n",
      "    hdlr.handle(record)\n",
      "  File \"/usr/lib64/python3.7/logging/__init__.py\", line 894, in handle\n",
      "    self.emit(record)\n",
      "  File \"/home/acordova/.local/lib/python3.7/site-packages/pip/_internal/utils/logging.py\", line 179, in emit\n",
      "    self.handleError(record)\n",
      "Message: '[present-rich] %s'\n",
      "Arguments: (UpgradePrompt(old='22.2', new='22.2.2'),)\n"
     ]
    }
   ],
   "source": [
    "%%bash\n",
    "pip install --user requests>=2.25 pytest==6.2.3 pytest-mock==3.5.1 python-dateutil"
   ]
  },
  {
   "cell_type": "markdown",
   "metadata": {},
   "source": [
    "### That works well, but imagine your project now has 10 dependencies... or 20... or 30\n",
    "Specifying and installing packages manually for every project, or every new machine you want to use a project on is tedious and error prone.  There's got to be a better way!"
   ]
  },
  {
   "cell_type": "markdown",
   "metadata": {},
   "source": [
    "### requirements.txt - The Better Way\n",
    "The requirements.txt file is a simple way to specify the requirements of your projects so they can be easily reproduced by whomever is using your package on any machine where you want to run it.\n",
    "The file is simply a list of the packages to install, one per line, with version specifiers the same way pip uses them."
   ]
  },
  {
   "cell_type": "code",
   "execution_count": 16,
   "metadata": {},
   "outputs": [
    {
     "name": "stdout",
     "output_type": "stream",
     "text": [
      "requests>=2.25\r\n",
      "pytest==6.2.3\r\n",
      "pytest-mock==3.5.1\r\n",
      "python-dateutil\r\n"
     ]
    }
   ],
   "source": [
    "!cat requirements.txt"
   ]
  },
  {
   "cell_type": "code",
   "execution_count": 17,
   "metadata": {},
   "outputs": [
    {
     "name": "stdout",
     "output_type": "stream",
     "text": [
      "Requirement already satisfied: requests>=2.25 in /home/acordova/.local/lib/python3.7/site-packages (from -r requirements.txt (line 1)) (2.25.1)\n",
      "Requirement already satisfied: pytest==6.2.3 in /home/acordova/.local/lib/python3.7/site-packages (from -r requirements.txt (line 2)) (6.2.3)\n",
      "Requirement already satisfied: pytest-mock==3.5.1 in /home/acordova/.local/lib/python3.7/site-packages (from -r requirements.txt (line 3)) (3.5.1)\n",
      "Requirement already satisfied: python-dateutil in /home/acordova/.local/lib/python3.7/site-packages (from -r requirements.txt (line 4)) (2.7.5)\n",
      "Requirement already satisfied: pluggy<1.0.0a1,>=0.12 in /home/acordova/.local/lib/python3.7/site-packages (from pytest==6.2.3->-r requirements.txt (line 2)) (0.13.1)\n",
      "Requirement already satisfied: py>=1.8.2 in /home/acordova/.local/lib/python3.7/site-packages (from pytest==6.2.3->-r requirements.txt (line 2)) (1.11.0)\n",
      "Requirement already satisfied: iniconfig in /home/acordova/.local/lib/python3.7/site-packages (from pytest==6.2.3->-r requirements.txt (line 2)) (1.1.1)\n",
      "Requirement already satisfied: packaging in /home/acordova/.local/lib/python3.7/site-packages (from pytest==6.2.3->-r requirements.txt (line 2)) (21.3)\n",
      "Requirement already satisfied: attrs>=19.2.0 in /home/acordova/.local/lib/python3.7/site-packages (from pytest==6.2.3->-r requirements.txt (line 2)) (22.1.0)\n",
      "Requirement already satisfied: toml in /home/acordova/.local/lib/python3.7/site-packages (from pytest==6.2.3->-r requirements.txt (line 2)) (0.10.2)\n",
      "Requirement already satisfied: importlib-metadata>=0.12 in /home/acordova/.local/lib/python3.7/site-packages (from pytest==6.2.3->-r requirements.txt (line 2)) (4.12.0)\n",
      "Requirement already satisfied: certifi>=2017.4.17 in /usr/local/lib/python3.7/site-packages (from requests>=2.25->-r requirements.txt (line 1)) (2019.6.16)\n",
      "Requirement already satisfied: urllib3<1.27,>=1.21.1 in /home/acordova/.local/lib/python3.7/site-packages (from requests>=2.25->-r requirements.txt (line 1)) (1.25.11)\n",
      "Requirement already satisfied: idna<3,>=2.5 in /usr/local/lib/python3.7/site-packages (from requests>=2.25->-r requirements.txt (line 1)) (2.8)\n",
      "Requirement already satisfied: chardet<5,>=3.0.2 in /usr/local/lib/python3.7/site-packages (from requests>=2.25->-r requirements.txt (line 1)) (3.0.4)\n",
      "Requirement already satisfied: six>=1.5 in /usr/local/lib/python3.7/site-packages (from python-dateutil->-r requirements.txt (line 4)) (1.12.0)\n",
      "Requirement already satisfied: typing-extensions>=3.6.4 in /home/acordova/.local/lib/python3.7/site-packages (from importlib-metadata>=0.12->pytest==6.2.3->-r requirements.txt (line 2)) (4.3.0)\n",
      "Requirement already satisfied: zipp>=0.5 in /home/acordova/.local/lib/python3.7/site-packages (from importlib-metadata>=0.12->pytest==6.2.3->-r requirements.txt (line 2)) (3.8.1)\n",
      "Requirement already satisfied: pyparsing!=3.0.5,>=2.0.2 in /home/acordova/.local/lib/python3.7/site-packages (from packaging->pytest==6.2.3->-r requirements.txt (line 2)) (3.0.9)\n"
     ]
    },
    {
     "name": "stderr",
     "output_type": "stream",
     "text": [
      "--- Logging error ---\n",
      "Traceback (most recent call last):\n",
      "  File \"/home/acordova/.local/lib/python3.7/site-packages/pip/_internal/utils/logging.py\", line 177, in emit\n",
      "    self.console.print(renderable, overflow=\"ignore\", crop=False, style=style)\n",
      "  File \"/home/acordova/.local/lib/python3.7/site-packages/pip/_vendor/rich/console.py\", line 1673, in print\n",
      "    extend(render(renderable, render_options))\n",
      "  File \"/home/acordova/.local/lib/python3.7/site-packages/pip/_vendor/rich/console.py\", line 1305, in render\n",
      "    for render_output in iter_render:\n",
      "  File \"/home/acordova/.local/lib/python3.7/site-packages/pip/_internal/utils/logging.py\", line 134, in __rich_console__\n",
      "    for line in lines:\n",
      "  File \"/home/acordova/.local/lib/python3.7/site-packages/pip/_vendor/rich/segment.py\", line 249, in split_lines\n",
      "    for segment in segments:\n",
      "  File \"/home/acordova/.local/lib/python3.7/site-packages/pip/_vendor/rich/console.py\", line 1283, in render\n",
      "    renderable = rich_cast(renderable)\n",
      "  File \"/home/acordova/.local/lib/python3.7/site-packages/pip/_vendor/rich/protocol.py\", line 36, in rich_cast\n",
      "    renderable = cast_method()\n",
      "  File \"/home/acordova/.local/lib/python3.7/site-packages/pip/_internal/self_outdated_check.py\", line 130, in __rich__\n",
      "    pip_cmd = get_best_invocation_for_this_pip()\n",
      "  File \"/home/acordova/.local/lib/python3.7/site-packages/pip/_internal/utils/entrypoints.py\", line 60, in get_best_invocation_for_this_pip\n",
      "    os.path.join(binary_prefix, exe_name),\n",
      "  File \"/usr/lib64/python3.7/genericpath.py\", line 101, in samefile\n",
      "    s2 = os.stat(f2)\n",
      "FileNotFoundError: [Errno 2] No such file or directory: '/usr/bin/pip'\n",
      "Call stack:\n",
      "  File \"/usr/local/bin/pip\", line 8, in <module>\n",
      "    sys.exit(main())\n",
      "  File \"/home/acordova/.local/lib/python3.7/site-packages/pip/_internal/cli/main.py\", line 70, in main\n",
      "    return command.main(cmd_args)\n",
      "  File \"/home/acordova/.local/lib/python3.7/site-packages/pip/_internal/cli/base_command.py\", line 101, in main\n",
      "    return self._main(args)\n",
      "  File \"/home/acordova/.local/lib/python3.7/site-packages/pip/_internal/cli/base_command.py\", line 223, in _main\n",
      "    self.handle_pip_version_check(options)\n",
      "  File \"/home/acordova/.local/lib/python3.7/site-packages/pip/_internal/cli/req_command.py\", line 190, in handle_pip_version_check\n",
      "    pip_self_version_check(session, options)\n",
      "  File \"/home/acordova/.local/lib/python3.7/site-packages/pip/_internal/self_outdated_check.py\", line 236, in pip_self_version_check\n",
      "    logger.info(\"[present-rich] %s\", upgrade_prompt)\n",
      "  File \"/usr/lib64/python3.7/logging/__init__.py\", line 1378, in info\n",
      "    self._log(INFO, msg, args, **kwargs)\n",
      "  File \"/usr/lib64/python3.7/logging/__init__.py\", line 1514, in _log\n",
      "    self.handle(record)\n",
      "  File \"/usr/lib64/python3.7/logging/__init__.py\", line 1524, in handle\n",
      "    self.callHandlers(record)\n",
      "  File \"/usr/lib64/python3.7/logging/__init__.py\", line 1586, in callHandlers\n",
      "    hdlr.handle(record)\n",
      "  File \"/usr/lib64/python3.7/logging/__init__.py\", line 894, in handle\n",
      "    self.emit(record)\n",
      "  File \"/home/acordova/.local/lib/python3.7/site-packages/pip/_internal/utils/logging.py\", line 179, in emit\n",
      "    self.handleError(record)\n",
      "Message: '[present-rich] %s'\n",
      "Arguments: (UpgradePrompt(old='22.2', new='22.2.2'),)\n"
     ]
    }
   ],
   "source": [
    "%%bash\n",
    "# Install all requirements from a requirements.txt file \n",
    "# NOTE: It doesn't actually have to be named \"requirements.txt\"\n",
    "pip install --user -r requirements.txt"
   ]
  },
  {
   "cell_type": "code",
   "execution_count": null,
   "metadata": {},
   "outputs": [],
   "source": [
    "%%bash\n",
    "# Didn't start with a requirements.txt, but you need one now?  No problem!\n",
    "# List off packages, with versions, that have been installed.\n",
    "pip freeze"
   ]
  },
  {
   "cell_type": "code",
   "execution_count": null,
   "metadata": {},
   "outputs": [],
   "source": [
    "%%bash\n",
    "# Use it to generate your requirements.txt\n",
    "pip freeze > requirements-captured.txt\n",
    "cat requirements-captured.txt"
   ]
  },
  {
   "cell_type": "markdown",
   "metadata": {},
   "source": [
    "### A note about pip freeze...\n",
    "This will pin every version by default, and show sub-dependencies, so you may need to edit and clean up a bit!  Try to capture just your project's DIRECT dependencies and let pip do the rest"
   ]
  },
  {
   "cell_type": "markdown",
   "metadata": {},
   "source": [
    "### Why pin versions at all?\n",
    "- Ensure different developers are working on the same packages\n",
    "- No surprises if a package drops support for your Python version or removes a feature\n",
    "- Deterministic Builds\n",
    "- Also, Deterministic Builds\n",
    "- Did I mention Deterministic Builds?"
   ]
  },
  {
   "cell_type": "markdown",
   "metadata": {},
   "source": [
    "### Versioning and Packages\n",
    "- **Semantic Versioning**\n",
    "    - Versions specified as MAJOR.MINOR.PATCH (and occasionally a fourth value for a build number)\n",
    "    - Each \"segment\" is independent and increases independently\n",
    "    - **Major** version increment indicates large, possibly backward-incompatible changes (Python 2.7 -> 3.6)\n",
    "    - **Minor** version increment indicates smaller changes, usually backward compatible. (Python 3.6 -> Python 3.7)\n",
    "    - **Patch** version increment indicates bug fixes, security updates, etc. - no functional changes\n",
    "    - Most Python packages are versioned this way\n",
    "    - https://semver.org/\n",
    "- **Calendar Versioning**\n",
    "    - Version numbers are based on a release schedule (usually year and month)\n",
    "    - Ex. Ubuntu 20.04 ->  Released in April, 2020\n",
    "    - No indication of what is contained in the version (but nothing misleading either!)\n",
    "    - https://calver.org/"
   ]
  },
  {
   "cell_type": "markdown",
   "metadata": {},
   "source": [
    "## Alternatives to pip\n",
    "- **pipenv** - Attempts to remove the problem of dependency conflicts in pip\n",
    "- **poetry** - Designed primarily to handle dependies for publishing packages\n",
    "- **conda** - Basically pip, but for the Anaconda Python Distribution"
   ]
  },
  {
   "cell_type": "markdown",
   "metadata": {},
   "source": [
    "### So now you've got dependencies handled for your project...\n",
    "### But what happens when you set up the next one?"
   ]
  },
  {
   "cell_type": "markdown",
   "metadata": {},
   "source": [
    "## Dependency Hell\n",
    "![Tech Loops](images/tech_loops_2x.png)"
   ]
  },
  {
   "cell_type": "markdown",
   "metadata": {},
   "source": [
    "## Enter Virtualenv - isolated dependencies for Python projects\n",
    "- Virtualenv (\"virtual environment\") is a Python package\n",
    "- Distributed as the \"venv\" module in modern Python versions\n",
    "- Uses environment settings, paths, and a few other \"tricks\" to isolate a project from the system, and from each other!\n",
    "- Despite the name, NOT a virtual machine or emulation layer"
   ]
  },
  {
   "cell_type": "code",
   "execution_count": 18,
   "metadata": {},
   "outputs": [],
   "source": [
    "%%bash\n",
    "# Create a new virtualenv\n",
    "python3 -m venv myproject"
   ]
  },
  {
   "cell_type": "code",
   "execution_count": 19,
   "metadata": {},
   "outputs": [
    {
     "name": "stdout",
     "output_type": "stream",
     "text": [
      "total 24\n",
      "drwxr-xr-x 5 CORP\\acordova CORP\\domain users 4096 Sep 27 14:06 .\n",
      "drwxr-xr-x 6 CORP\\acordova CORP\\domain users 4096 Sep 27 14:07 ..\n",
      "drwxr-xr-x 2 CORP\\acordova CORP\\domain users 4096 Sep 27 14:06 bin\n",
      "drwxr-xr-x 2 CORP\\acordova CORP\\domain users 4096 Sep 27 14:06 include\n",
      "drwxr-xr-x 3 CORP\\acordova CORP\\domain users 4096 Sep 27 14:06 lib\n",
      "lrwxrwxrwx 1 CORP\\acordova CORP\\domain users    3 Sep 27 14:06 lib64 -> lib\n",
      "-rw-r--r-- 1 CORP\\acordova CORP\\domain users  107 Sep 27 14:06 pyvenv.cfg\n"
     ]
    }
   ],
   "source": [
    "%%bash\n",
    "# Take a peek in the virtualenv\n",
    "ls -al myproject"
   ]
  },
  {
   "cell_type": "code",
   "execution_count": 20,
   "metadata": {},
   "outputs": [
    {
     "name": "stdout",
     "output_type": "stream",
     "text": [
      "total 44\n",
      "drwxr-xr-x 2 CORP\\acordova CORP\\domain users 4096 Sep 27 14:06 .\n",
      "drwxr-xr-x 5 CORP\\acordova CORP\\domain users 4096 Sep 27 14:06 ..\n",
      "-r--r--r-- 1 CORP\\acordova CORP\\domain users 1948 Sep 27 14:06 activate\n",
      "-r--r--r-- 1 CORP\\acordova CORP\\domain users  897 Sep 27 14:06 activate.csh\n",
      "-r--r--r-- 1 CORP\\acordova CORP\\domain users 2037 Sep 27 14:06 activate.fish\n",
      "-r--r--r-- 1 CORP\\acordova CORP\\domain users 8834 Sep 27 14:06 Activate.ps1\n",
      "-rwxr-xr-x 1 CORP\\acordova CORP\\domain users  287 Sep 27 14:06 pip\n",
      "-rwxr-xr-x 1 CORP\\acordova CORP\\domain users  287 Sep 27 14:06 pip3\n",
      "-rwxr-xr-x 1 CORP\\acordova CORP\\domain users  287 Sep 27 14:06 pip3.9\n",
      "lrwxrwxrwx 1 CORP\\acordova CORP\\domain users    9 Sep 27 14:06 python -> python3.9\n",
      "lrwxrwxrwx 1 CORP\\acordova CORP\\domain users    9 Sep 27 14:06 python3 -> python3.9\n",
      "lrwxrwxrwx 1 CORP\\acordova CORP\\domain users   55 Sep 27 14:06 python3.9 -> /home/linuxbrew/.linuxbrew/opt/python@3.9/bin/python3.9\n"
     ]
    }
   ],
   "source": [
    "%%bash\n",
    "# What was installed that we can now use?\n",
    "ls -al myproject/bin"
   ]
  },
  {
   "cell_type": "code",
   "execution_count": null,
   "metadata": {},
   "outputs": [],
   "source": [
    "%%bash\n",
    "# Activate the virtualenv and then check which Python we're using\n",
    "source myproject/bin/activate\n",
    "echo \"Show Python Path\"\n",
    "which python\n",
    "python --version\n",
    "source deactivate"
   ]
  },
  {
   "cell_type": "code",
   "execution_count": null,
   "metadata": {},
   "outputs": [],
   "source": [
    "%%bash\n",
    "# Install things in JUST the virtual environment (not system wide)\n",
    "source myproject/bin/activate\n",
    "python -m pip install requests pytest python-dateutil\n",
    "echo \"Inside the virtualenv\"\n",
    "python -m pip freeze\n",
    "source deactivate"
   ]
  },
  {
   "cell_type": "code",
   "execution_count": null,
   "metadata": {},
   "outputs": [],
   "source": [
    "%%bash\n",
    "echo \"Outside the virtualenv\"\n",
    "python -m pip freeze"
   ]
  },
  {
   "cell_type": "markdown",
   "metadata": {},
   "source": [
    "### Virtualenv has a lot of options\n",
    "- Specify the Python version in the virtualenv\n",
    "- Specify the directory to create the virtualenv\n",
    "- Whether or not to install pip by default"
   ]
  },
  {
   "cell_type": "code",
   "execution_count": 21,
   "metadata": {},
   "outputs": [
    {
     "name": "stdout",
     "output_type": "stream",
     "text": [
      "usage: venv [-h] [--system-site-packages] [--symlinks | --copies] [--clear]\r\n",
      "            [--upgrade] [--without-pip] [--prompt PROMPT] [--upgrade-deps]\r\n",
      "            ENV_DIR [ENV_DIR ...]\r\n",
      "\r\n",
      "Creates virtual Python environments in one or more target directories.\r\n",
      "\r\n",
      "positional arguments:\r\n",
      "  ENV_DIR               A directory to create the environment in.\r\n",
      "\r\n",
      "optional arguments:\r\n",
      "  -h, --help            show this help message and exit\r\n",
      "  --system-site-packages\r\n",
      "                        Give the virtual environment access to the system\r\n",
      "                        site-packages dir.\r\n",
      "  --symlinks            Try to use symlinks rather than copies, when symlinks\r\n",
      "                        are not the default for the platform.\r\n",
      "  --copies              Try to use copies rather than symlinks, even when\r\n",
      "                        symlinks are the default for the platform.\r\n",
      "  --clear               Delete the contents of the environment directory if it\r\n",
      "                        already exists, before environment creation.\r\n",
      "  --upgrade             Upgrade the environment directory to use this version\r\n",
      "                        of Python, assuming Python has been upgraded in-place.\r\n",
      "  --without-pip         Skips installing or upgrading pip in the virtual\r\n",
      "                        environment (pip is bootstrapped by default)\r\n",
      "  --prompt PROMPT       Provides an alternative prompt prefix for this\r\n",
      "                        environment.\r\n",
      "  --upgrade-deps        Upgrade core dependencies: pip setuptools to the\r\n",
      "                        latest version in PyPI\r\n",
      "\r\n",
      "Once an environment has been created, you may wish to activate it, e.g. by\r\n",
      "sourcing an activate script in its bin directory.\r\n"
     ]
    }
   ],
   "source": [
    "!python3 -m venv --help"
   ]
  },
  {
   "cell_type": "code",
   "execution_count": 22,
   "metadata": {},
   "outputs": [],
   "source": [
    "### If you don't need it anymore, just delete it!\n",
    "### Virtualenvs are just directories, nothing magical\n",
    "!rm -rf ./myproject"
   ]
  },
  {
   "cell_type": "markdown",
   "metadata": {},
   "source": [
    "## Lab: Setting up a new Python project\n",
    "Create a new Python project and install some dependencies to get started.\n",
    "* Create a new directory for your project (choose any name you like) and create a virtualenv named `venv` inside it.  Make sure you set it up with Python 3!\n",
    "* Activate and install the following packages in your virtualenv:  \n",
    "    * `requests`\n",
    "    * `black`\n",
    "    * `pytest`\n",
    "* Use pip to generate a `requirements.txt` file for your project\n",
    "* BONUS:  Figure out what you should add to your `.gitignore` file if you wanted to put this new project into git, but exclude the virtualenv.\n"
   ]
  },
  {
   "cell_type": "code",
   "execution_count": null,
   "metadata": {},
   "outputs": [],
   "source": [
    "Creating Python Virtual Environment in Windows and Linux\n",
    "\n",
    "\n",
    "A Virtual Environment is a python environment, that is an isolated working copy of Python which allows you to work on a specific project without affecting other projects\n",
    "So basically it is a tool that enables multiple side-by-side installations of Python, one for each project.\n",
    "\n",
    "Creating virtual environment in Linux\n",
    "\n",
    "$ pip install virtualenv\n",
    "Now check your installation\n",
    "\n",
    "\n",
    "$ virtualenv virtualenv_name\n",
    "After this command, a folder named virtualenv_name will be created. You can name anything to it. If you want to create a virtualenv for specific python version, type\n",
    "\n",
    "$ virtualenv -p /usr/bin/python3 virtualenv_name\n",
    "or\n",
    "\n",
    "\n",
    "$ source virtualenv_name/bin/activate\n",
    "Now you are in a Python virtual environment\n",
    "\n",
    "    You can deactivate using\n",
    "\n",
    "    $ deactivate\n",
    "\n",
    "    \n",
    "\n",
    "pip freeze > requirements.txt\n"
   ]
  },
  {
   "cell_type": "markdown",
   "metadata": {},
   "source": [
    "## Digging Deeper - More tools to explore"
   ]
  },
  {
   "cell_type": "markdown",
   "metadata": {},
   "source": [
    "### setuptools - Python tools for building and distributing packages\n",
    "- Provides standard configuration files to specify project names, version, dependencies, etc.\n",
    "- Allows on-installation scripts to run if your package needs to be setup\n",
    "- Well established and supported by the Python community:  \n",
    "- https://setuptools.readthedocs.io/en/latest/"
   ]
  },
  {
   "cell_type": "markdown",
   "metadata": {},
   "source": [
    "### virtualenvwrapper - A set of scripts for managing multiple virtual environments on a system\n",
    "- Easily set up new virtualenvs for projects in a single, well-defined directory\n",
    "- Tools to easily switch projects by changing directories and activating virtualenvs for you\n",
    "- List off existing virtualenvs, remove them, etc.\n",
    "- https://virtualenvwrapper.readthedocs.io/en/latest/index.html"
   ]
  },
  {
   "cell_type": "markdown",
   "metadata": {},
   "source": [
    "## Best Practices for avoiding Dependency Hell\n",
    "- When you start a new project, or clone an existing one for the first time, set up a virtualenv\n",
    "- Only install dependencies to the system that will be used everywhere (like virtualenv itself, or pip)\n",
    "- Always run your project in a virtualenv, even if it's the only tool on the system\n",
    "- Use tools to upgrade your dependencies in development, but always pin for deployments!\n",
    "- Be explicit in your project about which versions of Python you support, and which versions of packages, so everyone can set up their environment correctly.\n",
    "- Need different dependencies for dev/test vs. prod?  Make multiple requirements.txt files and multiple virtualenvs!"
   ]
  },
  {
   "cell_type": "code",
   "execution_count": null,
   "metadata": {},
   "outputs": [],
   "source": []
  }
 ],
 "metadata": {
  "celltoolbar": "Slideshow",
  "kernelspec": {
   "display_name": "Python 3",
   "language": "python",
   "name": "python3"
  },
  "language_info": {
   "codemirror_mode": {
    "name": "ipython",
    "version": 3
   },
   "file_extension": ".py",
   "mimetype": "text/x-python",
   "name": "python",
   "nbconvert_exporter": "python",
   "pygments_lexer": "ipython3",
   "version": "3.7.10"
  }
 },
 "nbformat": 4,
 "nbformat_minor": 5
}
